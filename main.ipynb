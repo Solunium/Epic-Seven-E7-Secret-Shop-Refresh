{
 "cells": [
  {
   "cell_type": "code",
   "execution_count": null,
   "metadata": {},
   "outputs": [],
   "source": [
    "# #import built-in\n",
    "# import tkinter as tk\n",
    "# from tkinter import ttk\n",
    "# from PIL import ImageTk, Image\n",
    "# import csv\n",
    "# import os\n",
    "# import time\n",
    "# import threading\n",
    "# from datetime import datetime\n",
    "\n",
    "# #Library\n",
    "# import pyautogui\n",
    "# import pygetwindow as gw\n",
    "# import cv2\n",
    "# import numpy as np\n",
    "# import keyboard\n",
    "# from PIL import ImageGrab\n",
    "\n",
    "from E7SecretShopRefresh import *"
   ]
  },
  {
   "cell_type": "code",
   "execution_count": null,
   "metadata": {},
   "outputs": [],
   "source": [
    "if __name__ == '__main__':\n",
    "    # Secret shop with GUI\n",
    "    gui = AutoRefreshGUI()\n",
    "    \n",
    "    # # Uncomment below code start secret shop without gui, remember to comment everything above\n",
    "    # # Here are some parameter that you can pass in to secret shop calss\n",
    "    # # title_name: str      name of your emulator window\n",
    "    # # call_back: func      callback function when the macro terminates\n",
    "    # # budget: int          the ammont of skystone that you want to spend\n",
    "    # # debug: boolean       this will help you debug problem with the program\n",
    "\n",
    "    # print('Here are the active windows\\n')\n",
    "    # for title in gw.getAllTitles():\n",
    "    #     if title != '':\n",
    "    #         print(title)\n",
    "    \n",
    "    # win = input('Emulator: ')\n",
    "    # if win != '':\n",
    "    \n",
    "    #     ssr = SecretShopRefresh(win, budget=None)       #init macro instance with the application title being epic seven\n",
    "    #     ssr.addShopItem('cov.jpg', 'Covenant bookmark', 184000)     #adding items to refresh, cov.jpg needs to be in: assets/cov.jpg\n",
    "    #     ssr.addShopItem('mys.jpg', 'Mystic medal', 280000)\n",
    "    #     #ssr.addShopItem('fb.jpg', 'Friendship bookmark', 18000)     #comment out this, if you don't need to test\n",
    "    #     input('press any key to start')\n",
    "    #     ssr.start()     #Start macro instance, use ESC to terminate macro\n",
    "    # # Eric baby piles approved"
   ]
  }
 ],
 "metadata": {
  "kernelspec": {
   "display_name": ".venv",
   "language": "python",
   "name": "python3"
  },
  "language_info": {
   "codemirror_mode": {
    "name": "ipython",
    "version": 3
   },
   "file_extension": ".py",
   "mimetype": "text/x-python",
   "name": "python",
   "nbconvert_exporter": "python",
   "pygments_lexer": "ipython3",
   "version": "3.11.7"
  }
 },
 "nbformat": 4,
 "nbformat_minor": 2
}
